{
 "cells": [
  {
   "cell_type": "code",
   "execution_count": 39,
   "metadata": {},
   "outputs": [
    {
     "name": "stderr",
     "output_type": "stream",
     "text": [
      "C:\\Users\\vinicin\\AppData\\Local\\Temp\\ipykernel_5860\\447160673.py:6: DeprecationWarning: Firefox will soon stop logging to geckodriver.log by default; Specify desired logs with log_output\n",
      "  service = FirefoxService(GeckoDriverManager().install())\n"
     ]
    }
   ],
   "source": [
    "from selenium import webdriver\n",
    "from selenium.webdriver.firefox.service import Service as FirefoxService\n",
    "from selenium.webdriver.common.by import By\n",
    "from webdriver_manager.firefox import GeckoDriverManager\n",
    "\n",
    "service = FirefoxService(GeckoDriverManager().install())\n",
    "\n",
    "nav = webdriver.Firefox(service=service)\n",
    "nav.get(\"https://google.com\")"
   ]
  },
  {
   "cell_type": "code",
   "execution_count": 40,
   "metadata": {},
   "outputs": [],
   "source": [
    "from selenium.webdriver.common.keys import Keys\n",
    "\n",
    "message = 'Nunes macaco'\n",
    "\n",
    "nav.find_element(By.XPATH, '//*[@id=\"APjFqb\"]').click()\n",
    "\n",
    "nav.find_element(By.XPATH, '//*[@id=\"APjFqb\"]').send_keys(message)\n",
    "nav.find_element(By.XPATH, '//*[@id=\"APjFqb\"]').send_keys(Keys.ENTER)\n",
    "\n",
    "\n"
   ]
  }
 ],
 "metadata": {
  "kernelspec": {
   "display_name": "Python 3",
   "language": "python",
   "name": "python3"
  },
  "language_info": {
   "codemirror_mode": {
    "name": "ipython",
    "version": 3
   },
   "file_extension": ".py",
   "mimetype": "text/x-python",
   "name": "python",
   "nbconvert_exporter": "python",
   "pygments_lexer": "ipython3",
   "version": "3.11.5"
  },
  "orig_nbformat": 4
 },
 "nbformat": 4,
 "nbformat_minor": 2
}
